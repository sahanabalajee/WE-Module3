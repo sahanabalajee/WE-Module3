{
  "nbformat": 4,
  "nbformat_minor": 0,
  "metadata": {
    "colab": {
      "provenance": []
    },
    "kernelspec": {
      "name": "python3",
      "display_name": "Python 3"
    },
    "language_info": {
      "name": "python"
    }
  },
  "cells": [
    {
      "cell_type": "code",
      "execution_count": null,
      "metadata": {
        "colab": {
          "base_uri": "https://localhost:8080/"
        },
        "id": "7_F_8McrQ2IE",
        "outputId": "e47b82e2-1c2a-4ced-d3b8-85e6de4a26bb"
      },
      "outputs": [
        {
          "output_type": "stream",
          "name": "stdout",
          "text": [
            "Player's bid: 8H\n"
          ]
        }
      ],
      "source": [
        "def choose_bid(diamond_card, player_cards):\n",
        "    # Define a dictionary to map card values to their corresponding ranks\n",
        "    card_ranks = {'2': 0, '3': 1, '4': 2, '5': 3, '6': 4, '7': 5, '8': 6, '9': 7, 'T': 8, 'J': 9, 'Q': 10, 'K': 11, 'A': 12}\n",
        "\n",
        "    # Convert diamond card value to rank\n",
        "    diamond_rank = card_ranks[diamond_card[0]]\n",
        "\n",
        "    # Check if player has a card with the same value as the diamond card\n",
        "    matching_cards = [card for card in player_cards if card[0] == diamond_card[0]]\n",
        "\n",
        "    # If there are matching cards, bid with the lowest available matching card (2 or 3)\n",
        "    if matching_cards:\n",
        "        matching_cards.sort(key=lambda x: card_ranks[x[1]], reverse=True)  # Sort matching cards by rank\n",
        "        return matching_cards[-1]  # Bid with the highest matching card (2 or 3)\n",
        "    else:\n",
        "        # If no matching cards, bid with the lowest available card\n",
        "        player_cards.sort(key=lambda x: (card_ranks[x[0]], card_ranks[x[1]]))  # Sort player cards by rank\n",
        "        return player_cards[0]  # Bid with the lowest available card\n",
        "\n",
        "# Example usage:\n",
        "diamond_card = '7D'  # Example diamond card\n",
        "player_cards = ['4H', '8H', '5H', '2H']  # Example player cards\n",
        "bid = choose_bid(diamond_card, player_cards)\n",
        "print(\"Player's bid:\", bid)\n"
      ]
    },
    {
      "cell_type": "code",
      "source": [
        "def choose_bid(diamond_card, player_cards):\n",
        "    # Define a dictionary to map card values to their corresponding ranks\n",
        "    card_ranks = {'2': 0, '3': 1, '4': 2, '5': 3, '6': 4, '7': 5, '8': 6, '9': 7, 'T': 8, 'J': 9, 'Q': 10, 'K': 11, 'A': 12}\n",
        "\n",
        "    # Convert diamond card value to rank\n",
        "    diamond_rank = card_ranks[diamond_card[0]]\n",
        "\n",
        "    # Check if player has a card with the same value as the diamond card\n",
        "    matching_cards = [card for card in player_cards if card[0] == diamond_card[0]]\n",
        "\n",
        "    # If there are matching cards, bid with the lowest available matching card (2 or 3)\n",
        "    if matching_cards:\n",
        "        matching_cards.sort(key=lambda x: card_ranks[x[1]], reverse=True)  # Sort matching cards by rank\n",
        "        return matching_cards[-1]  # Bid with the highest matching card (2 or 3)\n",
        "    else:\n",
        "        # Check if the diamond card is an Ace\n",
        "        if diamond_rank == 12:\n",
        "            # If the diamond card is an Ace, bid with the lowest available card (2)\n",
        "            return '2' + player_cards[0][1]  # Bid with the lowest available card (2)\n",
        "        else:\n",
        "            # Bid with one rank higher than the diamond card if available\n",
        "            for card in player_cards:\n",
        "                if card_ranks[card[0]] == diamond_rank + 1:\n",
        "                    return card  # Bid with the next highest card\n",
        "            # If no higher card is available, bid with the lowest available card\n",
        "            player_cards.sort(key=lambda x: (card_ranks[x[0]], card_ranks[x[1]]))  # Sort player cards by rank\n",
        "            return player_cards[0]  # Bid with the lowest available card\n",
        "\n",
        "# Example usage:\n",
        "diamond_card = '7D'  # Example diamond card\n",
        "player_cards = ['4H', '8H', '5H', '2H']  # Example player cards\n",
        "bid = choose_bid(diamond_card, player_cards)\n",
        "print(\"Player's bid:\", bid)\n"
      ],
      "metadata": {
        "colab": {
          "base_uri": "https://localhost:8080/"
        },
        "id": "g3agTZUIRant",
        "outputId": "da9bb0c2-4542-44ca-be71-48e738b886be"
      },
      "execution_count": 1,
      "outputs": [
        {
          "output_type": "stream",
          "name": "stdout",
          "text": [
            "Player's bid: 8H\n"
          ]
        }
      ]
    },
    {
      "cell_type": "code",
      "source": [
        "def get_card_ranks():\n",
        "    \"\"\"Returns a dictionary mapping card values to their corresponding ranks.\"\"\"\n",
        "    return {'2': 0, '3': 1, '4': 2, '5': 3, '6': 4, '7': 5, '8': 6, '9': 7, 'T': 8, 'J': 9, 'Q': 10, 'K': 11, 'A': 12}\n",
        "\n",
        "def get_diamond_rank(diamond_card, card_ranks):\n",
        "    \"\"\"Converts diamond card value to rank.\"\"\"\n",
        "    return card_ranks[diamond_card[0]]\n",
        "\n",
        "def find_matching_cards(player_cards, diamond_value):\n",
        "    \"\"\"Finds cards in player's hand with the same value as the diamond card.\"\"\"\n",
        "    return [card for card in player_cards if card[0] == diamond_value]\n",
        "\n",
        "def bid_matching_card(matching_cards, card_ranks):\n",
        "    \"\"\"Bids with the lowest available matching card (2 or 3).\"\"\"\n",
        "    matching_cards.sort(key=lambda x: card_ranks[x[0]], reverse=True)\n",
        "    return matching_cards[-1] if matching_cards else None\n",
        "\n",
        "def bid_with_lowest_card(player_cards):\n",
        "    \"\"\"Bids with the lowest available card.\"\"\"\n",
        "    player_cards.sort()\n",
        "    return player_cards[0]\n",
        "\n",
        "def bid_with_lowest_for_ace(player_cards):\n",
        "    \"\"\"Bids with the lowest available card (2) if diamond card is an Ace.\"\"\"\n",
        "    return '2' + player_cards[0][1] if player_cards else None\n",
        "\n",
        "def bid_with_next_higher_card(player_cards, diamond_rank, card_ranks):\n",
        "    \"\"\"Bids with one rank higher than the diamond card if available.\"\"\"\n",
        "    for card in player_cards:\n",
        "        if card_ranks[card[0]] == diamond_rank + 1:\n",
        "            return card\n",
        "    return None\n",
        "\n",
        "def choose_bid(diamond_card, player_cards):\n",
        "    \"\"\"Chooses the bid according to the diamond card and player's cards.\"\"\"\n",
        "    card_ranks = get_card_ranks()\n",
        "    diamond_value = diamond_card[0]\n",
        "    diamond_rank = get_diamond_rank(diamond_card, card_ranks)\n",
        "\n",
        "    matching_cards = find_matching_cards(player_cards, diamond_value)\n",
        "    bid = bid_matching_card(matching_cards, card_ranks)\n",
        "    if bid:\n",
        "        return bid\n",
        "\n",
        "    if diamond_rank == 12:\n",
        "        bid = bid_with_lowest_for_ace(player_cards)\n",
        "        if bid:\n",
        "            return bid\n",
        "    else:\n",
        "        bid = bid_with_next_higher_card(player_cards, diamond_rank, card_ranks)\n",
        "        if bid:\n",
        "            return bid\n",
        "\n",
        "    return bid_with_lowest_card(player_cards)\n",
        "\n",
        "# Example usage:\n",
        "diamond_card = '7D'  # Example diamond card\n",
        "player_cards = ['4H', '8H', '5H', '2H']  # Example player cards\n",
        "bid = choose_bid(diamond_card, player_cards)\n",
        "print(\"Player's bid:\", bid)\n"
      ],
      "metadata": {
        "colab": {
          "base_uri": "https://localhost:8080/"
        },
        "id": "Q4afrO3_RsvT",
        "outputId": "dad94500-10b9-4764-f7c0-12144ac8330b"
      },
      "execution_count": 2,
      "outputs": [
        {
          "output_type": "stream",
          "name": "stdout",
          "text": [
            "Player's bid: 8H\n"
          ]
        }
      ]
    },
    {
      "cell_type": "code",
      "source": [
        "def choose_bid(diamond_card, player_cards, opponent_cards):\n",
        "    \"\"\"Chooses the bid according to the diamond card, player's cards, and opponents' cards.\"\"\"\n",
        "    card_ranks = get_card_ranks()\n",
        "    diamond_value = diamond_card[0]\n",
        "    diamond_rank = get_diamond_rank(diamond_card, card_ranks)\n",
        "\n",
        "    matching_cards = find_matching_cards(player_cards, diamond_value)\n",
        "    bid = bid_matching_card(matching_cards, card_ranks)\n",
        "    if bid:\n",
        "        return bid\n",
        "\n",
        "    if diamond_rank == 12:\n",
        "        bid = bid_with_lowest_for_ace(player_cards)\n",
        "        if bid:\n",
        "            return bid\n",
        "    else:\n",
        "        bid = bid_with_next_higher_card(player_cards, diamond_rank, card_ranks)\n",
        "        if bid:\n",
        "            return bid\n",
        "\n",
        "    # Consider opponents' cards in bidding strategy\n",
        "    opponent_max_rank = max([card_ranks[card[0]] for card in opponent_cards], default=-1)\n",
        "    player_max_rank = max([card_ranks[card[0]] for card in player_cards], default=-1)\n",
        "    if opponent_max_rank >= diamond_rank:\n",
        "        # If opponents have bid high-value cards, bid more conservatively\n",
        "        return bid_with_lowest_card(player_cards)\n",
        "    elif player_max_rank < diamond_rank - 1:\n",
        "        # If the player has no cards one rank lower than the diamond card, bid with the lowest card\n",
        "        return bid_with_lowest_card(player_cards)\n",
        "    else:\n",
        "        # Bid with a card one rank higher than the diamond card\n",
        "        for card in player_cards:\n",
        "            if card_ranks[card[0]] == diamond_rank + 1:\n",
        "                return card\n",
        "        return bid_with_lowest_card(player_cards)\n",
        "\n",
        "# Example usage:\n",
        "diamond_card = '9D'  # Example diamond card\n",
        "player_cards = ['4H', '8H', '5H', '2H']  # Example player cards\n",
        "opponent_cards = ['6H', '9H']  # Example opponents' cards\n",
        "bid = choose_bid(diamond_card, player_cards, opponent_cards)\n",
        "print(\"Player's bid:\", bid)\n"
      ],
      "metadata": {
        "colab": {
          "base_uri": "https://localhost:8080/"
        },
        "id": "jVgOMqfgUPwP",
        "outputId": "ae121ba0-fb54-4a8d-b145-907a05c474de"
      },
      "execution_count": 3,
      "outputs": [
        {
          "output_type": "stream",
          "name": "stdout",
          "text": [
            "Player's bid: 2H\n"
          ]
        }
      ]
    }
  ]
}