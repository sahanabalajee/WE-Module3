{
  "nbformat": 4,
  "nbformat_minor": 0,
  "metadata": {
    "colab": {
      "provenance": []
    },
    "kernelspec": {
      "name": "python3",
      "display_name": "Python 3"
    },
    "language_info": {
      "name": "python"
    }
  },
  "cells": [
    {
      "cell_type": "code",
      "execution_count": 1,
      "metadata": {
        "id": "Y1tHBNF-8XKK"
      },
      "outputs": [],
      "source": [
        "import random\n",
        "from collections import defaultdict\n",
        "\n",
        "def read_file(filename):\n",
        "    with open(filename, 'r', encoding='utf-8') as file:\n",
        "        return file.read()\n",
        "\n",
        "def tokenize(text):\n",
        "    return text.split()\n",
        "\n",
        "def build_markov_chain(words, chain_length):\n",
        "    chain = defaultdict(list)\n",
        "    for i in range(len(words) - chain_length):\n",
        "        key = tuple(words[i:i + chain_length])\n",
        "        chain[key].append(words[i + chain_length])\n",
        "    return chain\n",
        "\n",
        "def generate_sentence(chain, start_words, chain_length):\n",
        "    sentence = list(start_words)\n",
        "    current_words = tuple(start_words)\n",
        "\n",
        "    while len(sentence) < chain_length:\n",
        "        next_word = random.choice(chain[current_words])\n",
        "        sentence.append(next_word)\n",
        "        current_words = tuple(sentence[-chain_length:])\n",
        "\n",
        "    return ' '.join(sentence)\n",
        "\n",
        "def generate(filename, start_words, chain_length, num_generated):\n",
        "    text = read_file(filename)\n",
        "    words = tokenize(text)\n",
        "    chain = build_markov_chain(words, chain_length)\n",
        "\n",
        "    generated_sentences = []\n",
        "    for _ in range(num_generated):\n",
        "        generated_sentence = generate_sentence(chain, start_words, chain_length)\n",
        "        generated_sentences.append(generated_sentence)\n",
        "\n",
        "    return ' '.join(generated_sentences)\n"
      ]
    },
    {
      "cell_type": "code",
      "source": [
        "import random\n",
        "from collections import defaultdict\n",
        "\n",
        "def tokenize(text):\n",
        "    return text.split()\n",
        "\n",
        "def build_markov_chain(words, chain_length):\n",
        "    chain = defaultdict(list)\n",
        "    for i in range(len(words) - chain_length):\n",
        "        key = tuple(words[i:i + chain_length])\n",
        "        chain[key].append(words[i + chain_length])\n",
        "    return chain\n",
        "\n",
        "def generate_sentence(chain, start_words, chain_length):\n",
        "    sentence = list(start_words)\n",
        "    current_words = tuple(start_words)\n",
        "\n",
        "    while len(sentence) < chain_length:\n",
        "        if current_words not in chain:\n",
        "            break\n",
        "        next_word = random.choice(chain[current_words])\n",
        "        sentence.append(next_word)\n",
        "        current_words = tuple(sentence[-chain_length:])\n",
        "\n",
        "    return ' '.join(sentence)\n",
        "\n",
        "def generate(sample_text, start_words, chain_length, num_generated):\n",
        "    words = tokenize(sample_text)\n",
        "    chain = build_markov_chain(words, chain_length)\n",
        "\n",
        "    generated_sentences = []\n",
        "    for _ in range(num_generated):\n",
        "        generated_sentence = generate_sentence(chain, start_words, chain_length)\n",
        "        generated_sentences.append(generated_sentence)\n",
        "\n",
        "    return ' '.join(generated_sentences)\n",
        "\n",
        "# Example usage:\n",
        "sample_text = \"\"\"\n",
        "Markov chains, named after Andrey Markov, are mathematical systems that exhibit random transitions between states according to certain probabilistic rules. They are widely used to model a variety of phenomena in diverse fields such as physics, biology, economics, computer science, and more.\n",
        "\n",
        "A Markov chain consists of a set of states and transition probabilities between these states. The key property of a Markov chain is the memorylessness property, which states that the probability of transitioning to a particular state depends only on the current state and not on the sequence of previous states. This makes Markov chains useful for modeling processes where future states depend only on the present state and are independent of the past.\n",
        "\n",
        "In practice, Markov chains can be represented using transition matrices or transition diagrams. Transition matrices encode the probabilities of transitioning between states, while transition diagrams visually represent the states and transitions between them.\n",
        "\n",
        "One common application of Markov chains is in natural language processing, where they are used for tasks such as text generation, part-of-speech tagging, and machine translation. In text generation, Markov chains can be trained on a corpus of text and used to generate new text that mimics the style and structure of the original corpus.\n",
        "\n",
        "Overall, Markov chains are powerful tools for modeling and analyzing stochastic processes, and they have a wide range of applications across various fields.\n",
        "\"\"\"\n",
        "start_words = ['The', 'quick', 'brown']\n",
        "chain_length = 5\n",
        "num_generated = 3\n",
        "generated_text = generate(sample_text, start_words, chain_length, num_generated)\n",
        "print(generated_text)\n"
      ],
      "metadata": {
        "colab": {
          "base_uri": "https://localhost:8080/"
        },
        "id": "klt9ssZfoUUo",
        "outputId": "0987ecfb-cf88-4ed7-e931-bfd4ef7e2855"
      },
      "execution_count": 8,
      "outputs": [
        {
          "output_type": "stream",
          "name": "stdout",
          "text": [
            "The quick brown The quick brown The quick brown\n"
          ]
        }
      ]
    },
    {
      "cell_type": "code",
      "source": [
        "import random\n",
        "from collections import defaultdict\n",
        "\n",
        "def tokenize(text):\n",
        "    return text.split()\n",
        "\n",
        "def build_markov_chain(words, chain_length):\n",
        "    chain = defaultdict(list)\n",
        "    for i in range(len(words) - chain_length):\n",
        "        key = tuple(words[i:i + chain_length])\n",
        "        chain[key].append(words[i + chain_length])\n",
        "    return chain\n",
        "\n",
        "def generate_sentence(chain, chain_length):\n",
        "    sentence = []\n",
        "    current_words = random.choice(list(chain.keys()))\n",
        "    sentence.extend(current_words)\n",
        "\n",
        "    while len(sentence) < chain_length:\n",
        "        if current_words not in chain:\n",
        "            break\n",
        "        next_word = random.choice(chain[current_words])\n",
        "        sentence.append(next_word)\n",
        "        current_words = tuple(sentence[-chain_length:])\n",
        "\n",
        "    return ' '.join(sentence)\n",
        "\n",
        "def generate(sample_text, chain_length, num_generated):\n",
        "    words = tokenize(sample_text)\n",
        "    chain = build_markov_chain(words, chain_length)\n",
        "\n",
        "    generated_sentences = []\n",
        "    for _ in range(num_generated):\n",
        "        generated_sentence = generate_sentence(chain, chain_length)\n",
        "        generated_sentences.append(generated_sentence)\n",
        "\n",
        "    return ' '.join(generated_sentences)\n",
        "\n",
        "# Example usage:\n",
        "sample_text = \"\"\"\n",
        "Markov chains, named after Andrey Markov, are mathematical systems that exhibit random transitions between states according to certain probabilistic rules. They are widely used to model a variety of phenomena in diverse fields such as physics, biology, economics, computer science, and more.\n",
        "\n",
        "A Markov chain consists of a set of states and transition probabilities between these states. The key property of a Markov chain is the memorylessness property, which states that the probability of transitioning to a particular state depends only on the current state and not on the sequence of previous states. This makes Markov chains useful for modeling processes where future states depend only on the present state and are independent of the past.\n",
        "\n",
        "In practice, Markov chains can be represented using transition matrices or transition diagrams. Transition matrices encode the probabilities of transitioning between states, while transition diagrams visually represent the states and transitions between them.\n",
        "\n",
        "One common application of Markov chains is in natural language processing, where they are used for tasks such as text generation, part-of-speech tagging, and machine translation. In text generation, Markov chains can be trained on a corpus of text and used to generate new text that mimics the style and structure of the original corpus.\n",
        "\n",
        "Overall, Markov chains are powerful tools for modeling and analyzing stochastic processes, and they have a wide range of applications across various fields.\n",
        "\"\"\"\n",
        "chain_length = 2\n",
        "num_generated = 3\n",
        "generated_text = generate(sample_text, chain_length, num_generated)\n",
        "print(generated_text)\n"
      ],
      "metadata": {
        "colab": {
          "base_uri": "https://localhost:8080/"
        },
        "id": "tSFZQlDXpzIk",
        "outputId": "6668186b-22cd-4922-eef9-f7e9f8eedfad"
      },
      "execution_count": 10,
      "outputs": [
        {
          "output_type": "stream",
          "name": "stdout",
          "text": [
            "text that makes Markov between them.\n"
          ]
        }
      ]
    },
    {
      "cell_type": "code",
      "source": [
        "import random\n",
        "from collections import defaultdict\n",
        "\n",
        "def sliding_pairs(text):\n",
        "    words = text.split()\n",
        "    pairs = []\n",
        "    for i in range(len(words) - 1):\n",
        "        pairs.append((words[i], words[i + 1]))\n",
        "    return pairs\n",
        "\n",
        "def build_markov_chain(pairs):\n",
        "    chain = defaultdict(list)\n",
        "    for current_pair, next_word in pairs:\n",
        "        chain[current_pair].append(next_word)\n",
        "    return chain\n",
        "\n",
        "def generate_sentence(chain, num_pairs):\n",
        "    sentence = []\n",
        "    current_pair = random.choice(list(chain.keys()))\n",
        "\n",
        "    for _ in range(num_pairs):\n",
        "        sentence.extend(current_pair)\n",
        "        if current_pair not in chain:\n",
        "            break\n",
        "        next_word = random.choice(chain[current_pair])\n",
        "        current_pair = (current_pair[1], next_word)\n",
        "\n",
        "    sentence.append(current_pair[1])  # Append the last word of the last pair\n",
        "    return ''.join(sentence)\n",
        "\n",
        "\n",
        "# Example usage:\n",
        "sample_text = \"\"\"\n",
        "Markov chains, named after Andrey Markov, are mathematical systems that exhibit random transitions between states according to certain probabilistic rules. They are widely used to model a variety of phenomena in diverse fields such as physics, biology, economics, computer science, and more.\n",
        "\n",
        "A Markov chain consists of a set of states and transition probabilities between these states. The key property of a Markov chain is the memorylessness property, which states that the probability of transitioning to a particular state depends only on the current state and not on the sequence of previous states. This makes Markov chains useful for modeling processes where future states depend only on the present state and are independent of the past.\n",
        "\n",
        "In practice, Markov chains can be represented using transition matrices or transition diagrams. Transition matrices encode the probabilities of transitioning between states, while transition diagrams visually represent the states and transitions between them.\n",
        "\n",
        "One common application of Markov chains is in natural language processing, where they are used for tasks such as text generation, part-of-speech tagging, and machine translation. In text generation, Markov chains can be trained on a corpus of text and used to generate new text that mimics the style and structure of the original corpus.\n",
        "\n",
        "Overall, Markov chains are powerful tools for modeling and analyzing stochastic processes, and they have a wide range of applications across various fields.\n",
        "\"\"\"\n",
        "\n",
        "pairs = sliding_pairs(sample_text)\n",
        "chain = build_markov_chain(pairs)\n",
        "\n",
        "num_sentences = 3\n",
        "num_pairs_per_sentence = 10\n",
        "\n",
        "for _ in range(num_sentences):\n",
        "    generated_sentence = generate_sentence(chain, num_pairs_per_sentence)\n",
        "    print(generated_sentence)\n"
      ],
      "metadata": {
        "colab": {
          "base_uri": "https://localhost:8080/"
        },
        "id": "1yC7c1Qssagt",
        "outputId": "ec9110cd-d9ae-4f2f-c868-60711b4393aa"
      },
      "execution_count": 14,
      "outputs": [
        {
          "output_type": "stream",
          "name": "stdout",
          "text": [
            "makesaMarkovMarkov\n",
            "exhibitxrandomrandom\n",
            "transitionrdiagrams.diagrams.\n"
          ]
        }
      ]
    }
  ]
}